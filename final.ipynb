{
 "cells": [
  {
   "cell_type": "markdown",
   "id": "e6e71c42-a97f-49fc-8d4a-aa0032ad7d78",
   "metadata": {},
   "source": [
    "\n",
    "Brian Wang\n",
    "Introduction:\n"
   ]
  },
  {
   "cell_type": "code",
   "execution_count": null,
   "id": "773d4ef4-54bd-488d-965a-319fc54c19b4",
   "metadata": {},
   "outputs": [],
   "source": [
    "import pandas\n",
    "import numpy as np"
   ]
  }
 ],
 "metadata": {
  "kernelspec": {
   "display_name": "Python 3 (ipykernel)",
   "language": "python",
   "name": "python3"
  },
  "language_info": {
   "codemirror_mode": {
    "name": "ipython",
    "version": 3
   },
   "file_extension": ".py",
   "mimetype": "text/x-python",
   "name": "python",
   "nbconvert_exporter": "python",
   "pygments_lexer": "ipython3",
   "version": "3.9.7"
  }
 },
 "nbformat": 4,
 "nbformat_minor": 5
}
